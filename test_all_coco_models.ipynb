{
 "cells": [
  {
   "cell_type": "code",
   "execution_count": 1,
   "metadata": {
    "ExecuteTime": {
     "end_time": "2018-07-08T12:00:44.021427Z",
     "start_time": "2018-07-08T12:00:43.057193Z"
    },
    "collapsed": true
   },
   "outputs": [],
   "source": [
    "from __future__ import print_function\n",
    "\n",
    "import tensorflow as tf\n",
    "import tensornets as nets\n",
    "\n",
    "from tensornets.datasets import coco\n",
    "\n",
    "data_dir = '/home/taehoonlee/Data/COCO'\n",
    "data_name = 'val2014'"
   ]
  },
  {
   "cell_type": "code",
   "execution_count": 2,
   "metadata": {
    "ExecuteTime": {
     "start_time": "2018-07-08T12:00:45.554Z"
    },
    "collapsed": true
   },
   "outputs": [],
   "source": [
    "inputs1 = tf.placeholder(tf.float32, [None, 416, 416, 3])\n",
    "inputs2 = tf.placeholder(tf.float32, [None, 608, 608, 3])\n",
    "models = []\n",
    "\n",
    "with tf.device('gpu:0'):\n",
    "    models += [nets.YOLOv2COCO(inputs1)]\n",
    "    models += [nets.YOLOv2COCO(inputs2)]\n",
    "\n",
    "with tf.device('gpu:1'):\n",
    "    models += [nets.YOLOv3COCO(inputs1)]\n",
    "    models += [nets.YOLOv3COCO(inputs2)]"
   ]
  },
  {
   "cell_type": "code",
   "execution_count": 3,
   "metadata": {
    "ExecuteTime": {
     "start_time": "2018-07-08T12:00:45.557Z"
    }
   },
   "outputs": [
    {
     "name": "stdout",
     "output_type": "stream",
     "text": [
      "loading annotations into memory...\n",
      "Done (t=6.49s)\n",
      "creating index...\n",
      "index created!\n",
      "40500\r"
     ]
    }
   ],
   "source": [
    "imgs = coco.load(data_dir, data_name)\n",
    "results = [[] for _ in range(len(models))]\n",
    "\n",
    "with tf.Session() as sess:\n",
    "    for m in models:\n",
    "        sess.run(m.pretrained())\n",
    "    for (k, (img, scale)) in enumerate(imgs):\n",
    "        outs = sess.run(models[:-2] + models[-2].preds + models[-1].preds,\n",
    "                        {inputs1: models[0].preprocess(img),\n",
    "                         inputs2: models[1].preprocess(img)})\n",
    "        outs = outs[:-6] + [outs[-6:-3]] + [outs[-3:]]\n",
    "        for i in range(len(models)):\n",
    "            results[i].append(models[i].get_boxes(outs[i], img.shape[1:3]))\n",
    "        if k % 10 == 0:\n",
    "            print(\"%d\" % k, end='\\r')"
   ]
  },
  {
   "cell_type": "code",
   "execution_count": 4,
   "metadata": {
    "ExecuteTime": {
     "end_time": "2018-07-08T14:06:37.511439Z",
     "start_time": "2018-07-08T14:04:23.722865Z"
    }
   },
   "outputs": [
    {
     "name": "stdout",
     "output_type": "stream",
     "text": [
      "| person | bicycl |    car | motorb | aeropl |    bus |  train |  truck |   boat | traffi | fire h | stop s | parkin |  bench |   bird |    cat |    dog |  horse |  sheep |    cow | elepha |   bear |  zebra | giraff | backpa | umbrel | handba |    tie | suitca | frisbe |   skis | snowbo | sports |   kite | baseba | baseba | skateb | surfbo | tennis | bottle | wine g |    cup |   fork |  knife |  spoon |   bowl | banana |  apple | sandwi | orange | brocco | carrot | hot do |  pizza |  donut |   cake |  chair |   sofa | potted |    bed | dining | toilet | tvmoni | laptop |  mouse | remote | keyboa | cell p | microw |   oven | toaste |   sink | refrig |   book |  clock |   vase | scisso | teddy  | hair d | toothb |\n",
      "|--------|--------|--------|--------|--------|--------|--------|--------|--------|--------|--------|--------|--------|--------|--------|--------|--------|--------|--------|--------|--------|--------|--------|--------|--------|--------|--------|--------|--------|--------|--------|--------|--------|--------|--------|--------|--------|--------|--------|--------|--------|--------|--------|--------|--------|--------|--------|--------|--------|--------|--------|--------|--------|--------|--------|--------|--------|--------|--------|--------|--------|--------|--------|--------|--------|--------|--------|--------|--------|--------|--------|--------|--------|--------|--------|--------|--------|--------|--------|--------|\n",
      "| 0.5191 | 0.4076 | 0.3840 | 0.5798 | 0.7096 | 0.7015 | 0.8095 | 0.4004 | 0.3736 | 0.2838 | 0.7203 | 0.6823 | 0.4248 | 0.3718 | 0.3962 | 0.8045 | 0.7070 | 0.6976 | 0.5577 | 0.5721 | 0.7930 | 0.8899 | 0.7920 | 0.8114 | 0.2337 | 0.4536 | 0.1732 | 0.4005 | 0.4839 | 0.6111 | 0.3581 | 0.4720 | 0.3216 | 0.3920 | 0.4004 | 0.4027 | 0.6040 | 0.5071 | 0.6042 | 0.2731 | 0.3259 | 0.3769 | 0.3135 | 0.2155 | 0.2015 | 0.4248 | 0.3448 | 0.3053 | 0.5336 | 0.3382 | 0.4313 | 0.2520 | 0.4553 | 0.6644 | 0.5528 | 0.5327 | 0.3513 | 0.6233 | 0.4070 | 0.6999 | 0.5032 | 0.7878 | 0.6928 | 0.6869 | 0.4848 | 0.2715 | 0.6567 | 0.3775 | 0.6929 | 0.6235 | 0.1890 | 0.5270 | 0.6870 | 0.1615 | 0.6043 | 0.4485 | 0.4200 | 0.6375 | 0.1895 | 0.3021 |\n",
      "Mean = 0.4922\n",
      "| person | bicycl |    car | motorb | aeropl |    bus |  train |  truck |   boat | traffi | fire h | stop s | parkin |  bench |   bird |    cat |    dog |  horse |  sheep |    cow | elepha |   bear |  zebra | giraff | backpa | umbrel | handba |    tie | suitca | frisbe |   skis | snowbo | sports |   kite | baseba | baseba | skateb | surfbo | tennis | bottle | wine g |    cup |   fork |  knife |  spoon |   bowl | banana |  apple | sandwi | orange | brocco | carrot | hot do |  pizza |  donut |   cake |  chair |   sofa | potted |    bed | dining | toilet | tvmoni | laptop |  mouse | remote | keyboa | cell p | microw |   oven | toaste |   sink | refrig |   book |  clock |   vase | scisso | teddy  | hair d | toothb |\n",
      "|--------|--------|--------|--------|--------|--------|--------|--------|--------|--------|--------|--------|--------|--------|--------|--------|--------|--------|--------|--------|--------|--------|--------|--------|--------|--------|--------|--------|--------|--------|--------|--------|--------|--------|--------|--------|--------|--------|--------|--------|--------|--------|--------|--------|--------|--------|--------|--------|--------|--------|--------|--------|--------|--------|--------|--------|--------|--------|--------|--------|--------|--------|--------|--------|--------|--------|--------|--------|--------|--------|--------|--------|--------|--------|--------|--------|--------|--------|--------|--------|\n",
      "| 0.5895 | 0.4640 | 0.4636 | 0.5921 | 0.7119 | 0.7053 | 0.8030 | 0.4371 | 0.4131 | 0.3555 | 0.7931 | 0.6986 | 0.4265 | 0.3675 | 0.4541 | 0.8551 | 0.7630 | 0.7011 | 0.5898 | 0.5954 | 0.7934 | 0.8745 | 0.7981 | 0.8119 | 0.2420 | 0.4686 | 0.1881 | 0.4695 | 0.5104 | 0.6983 | 0.4072 | 0.4796 | 0.4170 | 0.4549 | 0.4760 | 0.4950 | 0.6731 | 0.5733 | 0.6831 | 0.3505 | 0.4057 | 0.4321 | 0.3586 | 0.2595 | 0.2424 | 0.4308 | 0.3657 | 0.2998 | 0.5035 | 0.3581 | 0.4270 | 0.2920 | 0.4666 | 0.6491 | 0.5842 | 0.5226 | 0.3928 | 0.5364 | 0.4283 | 0.7162 | 0.4546 | 0.7760 | 0.6847 | 0.6981 | 0.5900 | 0.3410 | 0.6437 | 0.4309 | 0.6991 | 0.5933 | 0.1843 | 0.5407 | 0.6600 | 0.1719 | 0.6803 | 0.4668 | 0.4780 | 0.6432 | 0.1469 | 0.3132 |\n",
      "Mean = 0.5189\n",
      "| person | bicycl |    car | motorb | aeropl |    bus |  train |  truck |   boat | traffi | fire h | stop s | parkin |  bench |   bird |    cat |    dog |  horse |  sheep |    cow | elepha |   bear |  zebra | giraff | backpa | umbrel | handba |    tie | suitca | frisbe |   skis | snowbo | sports |   kite | baseba | baseba | skateb | surfbo | tennis | bottle | wine g |    cup |   fork |  knife |  spoon |   bowl | banana |  apple | sandwi | orange | brocco | carrot | hot do |  pizza |  donut |   cake |  chair |   sofa | potted |    bed | dining | toilet | tvmoni | laptop |  mouse | remote | keyboa | cell p | microw |   oven | toaste |   sink | refrig |   book |  clock |   vase | scisso | teddy  | hair d | toothb |\n",
      "|--------|--------|--------|--------|--------|--------|--------|--------|--------|--------|--------|--------|--------|--------|--------|--------|--------|--------|--------|--------|--------|--------|--------|--------|--------|--------|--------|--------|--------|--------|--------|--------|--------|--------|--------|--------|--------|--------|--------|--------|--------|--------|--------|--------|--------|--------|--------|--------|--------|--------|--------|--------|--------|--------|--------|--------|--------|--------|--------|--------|--------|--------|--------|--------|--------|--------|--------|--------|--------|--------|--------|--------|--------|--------|--------|--------|--------|--------|--------|--------|\n",
      "| 0.6829 | 0.5664 | 0.5817 | 0.6843 | 0.7221 | 0.8032 | 0.8154 | 0.5621 | 0.4600 | 0.5322 | 0.8145 | 0.7864 | 0.5806 | 0.4159 | 0.5345 | 0.8968 | 0.7942 | 0.7800 | 0.6251 | 0.5786 | 0.7980 | 0.8867 | 0.8059 | 0.8130 | 0.3632 | 0.5765 | 0.3230 | 0.5810 | 0.5775 | 0.8056 | 0.4447 | 0.5822 | 0.5666 | 0.4540 | 0.6005 | 0.6075 | 0.7146 | 0.6864 | 0.7209 | 0.5245 | 0.5827 | 0.5792 | 0.4793 | 0.3717 | 0.3481 | 0.6099 | 0.4346 | 0.3694 | 0.6486 | 0.4070 | 0.4272 | 0.4006 | 0.5927 | 0.6947 | 0.6261 | 0.6544 | 0.5266 | 0.6672 | 0.5336 | 0.7793 | 0.5231 | 0.8076 | 0.7919 | 0.7909 | 0.7082 | 0.5596 | 0.6939 | 0.5577 | 0.7918 | 0.6609 | 0.2606 | 0.6380 | 0.7697 | 0.2523 | 0.7159 | 0.5868 | 0.5233 | 0.6113 | 0.1653 | 0.4352 |\n",
      "Mean = 0.6028\n",
      "| person | bicycl |    car | motorb | aeropl |    bus |  train |  truck |   boat | traffi | fire h | stop s | parkin |  bench |   bird |    cat |    dog |  horse |  sheep |    cow | elepha |   bear |  zebra | giraff | backpa | umbrel | handba |    tie | suitca | frisbe |   skis | snowbo | sports |   kite | baseba | baseba | skateb | surfbo | tennis | bottle | wine g |    cup |   fork |  knife |  spoon |   bowl | banana |  apple | sandwi | orange | brocco | carrot | hot do |  pizza |  donut |   cake |  chair |   sofa | potted |    bed | dining | toilet | tvmoni | laptop |  mouse | remote | keyboa | cell p | microw |   oven | toaste |   sink | refrig |   book |  clock |   vase | scisso | teddy  | hair d | toothb |\n",
      "|--------|--------|--------|--------|--------|--------|--------|--------|--------|--------|--------|--------|--------|--------|--------|--------|--------|--------|--------|--------|--------|--------|--------|--------|--------|--------|--------|--------|--------|--------|--------|--------|--------|--------|--------|--------|--------|--------|--------|--------|--------|--------|--------|--------|--------|--------|--------|--------|--------|--------|--------|--------|--------|--------|--------|--------|--------|--------|--------|--------|--------|--------|--------|--------|--------|--------|--------|--------|--------|--------|--------|--------|--------|--------|--------|--------|--------|--------|--------|--------|\n",
      "| 0.7271 | 0.5719 | 0.6496 | 0.6807 | 0.7223 | 0.8037 | 0.8135 | 0.5614 | 0.4626 | 0.5573 | 0.8147 | 0.7919 | 0.5968 | 0.4542 | 0.5422 | 0.8891 | 0.7822 | 0.7795 | 0.5380 | 0.5505 | 0.7142 | 0.8025 | 0.8062 | 0.8120 | 0.4176 | 0.5698 | 0.3329 | 0.5895 | 0.5566 | 0.8124 | 0.3986 | 0.5857 | 0.5865 | 0.4582 | 0.6057 | 0.6197 | 0.7911 | 0.6854 | 0.7959 | 0.5490 | 0.5959 | 0.6466 | 0.4852 | 0.4264 | 0.4008 | 0.6044 | 0.4135 | 0.3272 | 0.6329 | 0.3865 | 0.3596 | 0.3831 | 0.5832 | 0.6795 | 0.5851 | 0.6125 | 0.5226 | 0.6226 | 0.5332 | 0.7407 | 0.4729 | 0.8022 | 0.7814 | 0.7941 | 0.7060 | 0.5731 | 0.6829 | 0.5748 | 0.7911 | 0.5975 | 0.2998 | 0.6261 | 0.6906 | 0.2487 | 0.7879 | 0.6408 | 0.5139 | 0.6083 | 0.1717 | 0.4450 |\n",
      "Mean = 0.6016\n"
     ]
    }
   ],
   "source": [
    "for result in results:\n",
    "    print(coco.evaluate(result, data_dir, data_name))"
   ]
  },
  {
   "cell_type": "code",
   "execution_count": null,
   "metadata": {
    "collapsed": true
   },
   "outputs": [],
   "source": []
  }
 ],
 "metadata": {
  "kernelspec": {
   "display_name": "Python 2",
   "language": "python",
   "name": "python2"
  },
  "language_info": {
   "codemirror_mode": {
    "name": "ipython",
    "version": 2
   },
   "file_extension": ".py",
   "mimetype": "text/x-python",
   "name": "python",
   "nbconvert_exporter": "python",
   "pygments_lexer": "ipython2",
   "version": "2.7.15"
  },
  "varInspector": {
   "cols": {
    "lenName": 16,
    "lenType": 16,
    "lenVar": 40
   },
   "kernels_config": {
    "python": {
     "delete_cmd_postfix": "",
     "delete_cmd_prefix": "del ",
     "library": "var_list.py",
     "varRefreshCmd": "print(var_dic_list())"
    },
    "r": {
     "delete_cmd_postfix": ") ",
     "delete_cmd_prefix": "rm(",
     "library": "var_list.r",
     "varRefreshCmd": "cat(var_dic_list()) "
    }
   },
   "types_to_exclude": [
    "module",
    "function",
    "builtin_function_or_method",
    "instance",
    "_Feature"
   ],
   "window_display": false
  }
 },
 "nbformat": 4,
 "nbformat_minor": 2
}
