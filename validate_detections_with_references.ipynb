{
 "cells": [
  {
   "cell_type": "code",
   "execution_count": 1,
   "metadata": {},
   "outputs": [],
   "source": [
    "import numpy as np\n",
    "import tensorflow as tf\n",
    "import tensornets as nets\n",
    "\n",
    "from tensornets.datasets import voc\n",
    "data_dir = '/home/taehoonlee/Data/VOCdevkit/VOC2007'\n",
    "data_name = 'test'"
   ]
  },
  {
   "cell_type": "code",
   "execution_count": 2,
   "metadata": {},
   "outputs": [
    {
     "name": "stdout",
     "output_type": "stream",
     "text": [
      "(500, 353) 0.00000000 0.00000004\n",
      "(500, 335) 0.00000000 0.00000000\n",
      "(375, 500) 0.00000000 0.00000000\n",
      "(406, 500) 0.00000000 0.00000000\n",
      "(375, 500) 0.00000000 0.00000000\n",
      "(375, 500) 0.00000000 0.00000000\n",
      "(480, 354) 0.00000000 0.00000000\n",
      "(324, 500) 0.00000000 0.00000000\n",
      "(375, 500) 0.00000000 0.00000000\n",
      "(333, 500) 0.00000000 0.00000000\n"
     ]
    }
   ],
   "source": [
    "with tf.Graph().as_default():\n",
    "    inputs = tf.placeholder(tf.float32, [None, 412, 412, 3])\n",
    "    models = []\n",
    "    with tf.device('gpu:0'):\n",
    "        models += [\n",
    "            nets.YOLOv2(inputs, nets.Darknet19),\n",
    "            nets.YOLOv2VOC(inputs)\n",
    "        ]\n",
    "    with tf.device('gpu:1'):\n",
    "        models += [\n",
    "            nets.TinyYOLOv2(inputs, nets.TinyDarknet19),\n",
    "            nets.TinyYOLOv2VOC(inputs)\n",
    "        ]\n",
    "    imgs = voc.load(data_dir, data_name, total_num=10)\n",
    "    results = [[] for _ in range(len(models))]\n",
    "\n",
    "    with tf.Session() as sess:\n",
    "        nets.pretrained(models)\n",
    "        for (img, scale) in imgs:\n",
    "            outs = sess.run(models, {inputs: models[1].preprocess(img)})\n",
    "            print(\"%s %.8f %.8f\" % (\n",
    "                img.shape[1:3],\n",
    "                np.sum((outs[0] - outs[1]) ** 2),\n",
    "                np.sum((outs[2] - outs[3]) ** 2)))\n",
    "            for i in range(len(models)):\n",
    "                results[i].append(models[i].get_boxes(outs[i], img.shape[1:3]))"
   ]
  },
  {
   "cell_type": "code",
   "execution_count": 3,
   "metadata": {},
   "outputs": [
    {
     "name": "stdout",
     "output_type": "stream",
     "text": [
      "(850, 600) 0.00000000 0.00000000\n",
      "(896, 600) 0.00000000 0.00000000\n",
      "(600, 800) 0.00000000 0.00000000\n",
      "(600, 739) 0.00000030 0.00000000\n",
      "(600, 800) 0.00000000 0.00000000\n",
      "(600, 800) 0.00000000 0.00000000\n",
      "(814, 600) 0.00000000 0.00000000\n",
      "(600, 926) 0.00000000 0.00000000\n",
      "(600, 800) 0.00000000 0.00000000\n",
      "(600, 901) 0.00000000 0.00000000\n"
     ]
    }
   ],
   "source": [
    "with tf.Graph().as_default():\n",
    "    inputs = tf.placeholder(tf.float32, [None, None, None, 3])\n",
    "    models = []\n",
    "    with tf.device('gpu:0'):\n",
    "        models += [\n",
    "            nets.FasterRCNN(inputs, nets.VGG16, stem_out='conv5/3'),\n",
    "            nets.FasterRCNN_VGG16_VOC(inputs)\n",
    "        ]\n",
    "    with tf.device('gpu:1'):\n",
    "        models += [\n",
    "            nets.FasterRCNN(inputs, nets.ZF),\n",
    "            nets.FasterRCNN_ZF_VOC(inputs)\n",
    "        ]\n",
    "    imgs = voc.load(data_dir, data_name, min_shorter_side=600, total_num=10)\n",
    "    results = [[] for _ in range(len(models))]\n",
    "\n",
    "    with tf.Session() as sess:\n",
    "        nets.pretrained(models)\n",
    "        for (img, scale) in imgs:\n",
    "            outs = sess.run(models, {inputs: models[0].preprocess(img),\n",
    "                                     models[0].scales: scale,\n",
    "                                     models[1].scales: scale,\n",
    "                                     models[2].scales: scale,\n",
    "                                     models[3].scales: scale})\n",
    "            print(\"%s %.8f %.8f\" % (\n",
    "                img.shape[1:3],\n",
    "                np.sum((outs[0] - outs[1]) ** 2),\n",
    "                np.sum((outs[2] - outs[3]) ** 2)))\n",
    "            for i in range(len(models)):\n",
    "                results[i].append(models[i].get_boxes(outs[i], img.shape[1:3]))"
   ]
  },
  {
   "cell_type": "code",
   "execution_count": null,
   "metadata": {
    "collapsed": true
   },
   "outputs": [],
   "source": []
  }
 ],
 "metadata": {
  "kernelspec": {
   "display_name": "Python 2",
   "language": "python",
   "name": "python2"
  },
  "language_info": {
   "codemirror_mode": {
    "name": "ipython",
    "version": 2
   },
   "file_extension": ".py",
   "mimetype": "text/x-python",
   "name": "python",
   "nbconvert_exporter": "python",
   "pygments_lexer": "ipython2",
   "version": "2.7.13"
  }
 },
 "nbformat": 4,
 "nbformat_minor": 2
}
